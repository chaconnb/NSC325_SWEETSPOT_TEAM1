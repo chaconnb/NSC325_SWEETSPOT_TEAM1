{
 "cells": [
  {
   "cell_type": "code",
   "execution_count": 2,
   "id": "6d41818e",
   "metadata": {},
   "outputs": [],
   "source": [
    "\n",
    "# Import necessary libraries\n",
    "import numpy as np\n",
    "import pandas as pd\n",
    "import seaborn as sns\n",
    "import matplotlib.pyplot as plt\n",
    "import scipy.stats as st\n"
   ]
  },
  {
   "cell_type": "code",
   "execution_count": 3,
   "id": "b852b997",
   "metadata": {},
   "outputs": [
    {
     "name": "stdout",
     "output_type": "stream",
     "text": [
      "Dataset Shape: (55, 14)\n"
     ]
    },
    {
     "data": {
      "text/html": [
       "<div>\n",
       "<style scoped>\n",
       "    .dataframe tbody tr th:only-of-type {\n",
       "        vertical-align: middle;\n",
       "    }\n",
       "\n",
       "    .dataframe tbody tr th {\n",
       "        vertical-align: top;\n",
       "    }\n",
       "\n",
       "    .dataframe thead th {\n",
       "        text-align: right;\n",
       "    }\n",
       "</style>\n",
       "<table border=\"1\" class=\"dataframe\">\n",
       "  <thead>\n",
       "    <tr style=\"text-align: right;\">\n",
       "      <th></th>\n",
       "      <th>Well Number</th>\n",
       "      <th>Well Name</th>\n",
       "      <th>Bottomhole X</th>\n",
       "      <th>Bottomhole Y</th>\n",
       "      <th>Co [MSTB]</th>\n",
       "      <th>Cw (bbl)</th>\n",
       "      <th>POROS</th>\n",
       "      <th>KX</th>\n",
       "      <th>KY</th>\n",
       "      <th>TD(MD)</th>\n",
       "      <th>Cg (mmcf)</th>\n",
       "      <th>FACIES</th>\n",
       "      <th>P_2020-1-6</th>\n",
       "      <th>P_2029-1-1</th>\n",
       "    </tr>\n",
       "  </thead>\n",
       "  <tbody>\n",
       "    <tr>\n",
       "      <th>0</th>\n",
       "      <td>1</td>\n",
       "      <td>PO1_1</td>\n",
       "      <td>5064.04</td>\n",
       "      <td>13746.23</td>\n",
       "      <td>55.191600</td>\n",
       "      <td>1.617450e-04</td>\n",
       "      <td>0.128029</td>\n",
       "      <td>0.020377</td>\n",
       "      <td>0.020377</td>\n",
       "      <td>8551.7</td>\n",
       "      <td>157.119447</td>\n",
       "      <td>3</td>\n",
       "      <td>3491.971374</td>\n",
       "      <td>2992.403113</td>\n",
       "    </tr>\n",
       "    <tr>\n",
       "      <th>1</th>\n",
       "      <td>2</td>\n",
       "      <td>PO1_2</td>\n",
       "      <td>7668.40</td>\n",
       "      <td>13746.23</td>\n",
       "      <td>27.529400</td>\n",
       "      <td>1.394790e-04</td>\n",
       "      <td>0.101876</td>\n",
       "      <td>0.015088</td>\n",
       "      <td>0.015088</td>\n",
       "      <td>8579.9</td>\n",
       "      <td>69.831076</td>\n",
       "      <td>4</td>\n",
       "      <td>3501.327981</td>\n",
       "      <td>2947.374808</td>\n",
       "    </tr>\n",
       "    <tr>\n",
       "      <th>2</th>\n",
       "      <td>3</td>\n",
       "      <td>PO1_3</td>\n",
       "      <td>2459.67</td>\n",
       "      <td>13746.23</td>\n",
       "      <td>48.354000</td>\n",
       "      <td>1.973990e-04</td>\n",
       "      <td>0.119220</td>\n",
       "      <td>0.022396</td>\n",
       "      <td>0.022396</td>\n",
       "      <td>8557.1</td>\n",
       "      <td>134.781940</td>\n",
       "      <td>4</td>\n",
       "      <td>3493.763065</td>\n",
       "      <td>2904.053641</td>\n",
       "    </tr>\n",
       "    <tr>\n",
       "      <th>3</th>\n",
       "      <td>4</td>\n",
       "      <td>PO1_4</td>\n",
       "      <td>10272.76</td>\n",
       "      <td>13746.23</td>\n",
       "      <td>0.572057</td>\n",
       "      <td>1.440000e-07</td>\n",
       "      <td>0.064132</td>\n",
       "      <td>0.000091</td>\n",
       "      <td>0.000091</td>\n",
       "      <td>8635.5</td>\n",
       "      <td>1.101210</td>\n",
       "      <td>5</td>\n",
       "      <td>3519.775759</td>\n",
       "      <td>3301.826052</td>\n",
       "    </tr>\n",
       "    <tr>\n",
       "      <th>4</th>\n",
       "      <td>5</td>\n",
       "      <td>PO1_5</td>\n",
       "      <td>12877.11</td>\n",
       "      <td>13746.23</td>\n",
       "      <td>0.430394</td>\n",
       "      <td>8.560000e-08</td>\n",
       "      <td>0.063078</td>\n",
       "      <td>0.000067</td>\n",
       "      <td>0.000067</td>\n",
       "      <td>8718.6</td>\n",
       "      <td>0.435085</td>\n",
       "      <td>5</td>\n",
       "      <td>3547.347889</td>\n",
       "      <td>3365.597401</td>\n",
       "    </tr>\n",
       "  </tbody>\n",
       "</table>\n",
       "</div>"
      ],
      "text/plain": [
       "   Well Number Well Name  Bottomhole X  Bottomhole Y  Co [MSTB]      Cw (bbl)  \\\n",
       "0            1     PO1_1       5064.04      13746.23  55.191600  1.617450e-04   \n",
       "1            2     PO1_2       7668.40      13746.23  27.529400  1.394790e-04   \n",
       "2            3     PO1_3       2459.67      13746.23  48.354000  1.973990e-04   \n",
       "3            4     PO1_4      10272.76      13746.23   0.572057  1.440000e-07   \n",
       "4            5     PO1_5      12877.11      13746.23   0.430394  8.560000e-08   \n",
       "\n",
       "      POROS        KX        KY  TD(MD)   Cg (mmcf)  FACIES   P_2020-1-6  \\\n",
       "0  0.128029  0.020377  0.020377  8551.7  157.119447       3  3491.971374   \n",
       "1  0.101876  0.015088  0.015088  8579.9   69.831076       4  3501.327981   \n",
       "2  0.119220  0.022396  0.022396  8557.1  134.781940       4  3493.763065   \n",
       "3  0.064132  0.000091  0.000091  8635.5    1.101210       5  3519.775759   \n",
       "4  0.063078  0.000067  0.000067  8718.6    0.435085       5  3547.347889   \n",
       "\n",
       "    P_2029-1-1  \n",
       "0  2992.403113  \n",
       "1  2947.374808  \n",
       "2  2904.053641  \n",
       "3  3301.826052  \n",
       "4  3365.597401  "
      ]
     },
     "execution_count": 3,
     "metadata": {},
     "output_type": "execute_result"
    }
   ],
   "source": [
    "\n",
    "# Load the dataset\n",
    "file_path = \"sweetspot_UT_Austin.csv\"\n",
    "df = pd.read_csv(file_path)\n",
    "\n",
    "# Display basic info\n",
    "print(\"Dataset Shape:\", df.shape)\n",
    "df.head()\n"
   ]
  },
  {
   "cell_type": "code",
   "execution_count": 5,
   "id": "de8f9d6d",
   "metadata": {},
   "outputs": [
    {
     "name": "stdout",
     "output_type": "stream",
     "text": [
      "Summary Statistics for Kx and Ky:\n"
     ]
    },
    {
     "data": {
      "text/html": [
       "<div>\n",
       "<style scoped>\n",
       "    .dataframe tbody tr th:only-of-type {\n",
       "        vertical-align: middle;\n",
       "    }\n",
       "\n",
       "    .dataframe tbody tr th {\n",
       "        vertical-align: top;\n",
       "    }\n",
       "\n",
       "    .dataframe thead th {\n",
       "        text-align: right;\n",
       "    }\n",
       "</style>\n",
       "<table border=\"1\" class=\"dataframe\">\n",
       "  <thead>\n",
       "    <tr style=\"text-align: right;\">\n",
       "      <th></th>\n",
       "      <th>KX</th>\n",
       "      <th>KY</th>\n",
       "    </tr>\n",
       "  </thead>\n",
       "  <tbody>\n",
       "    <tr>\n",
       "      <th>count</th>\n",
       "      <td>55.000000</td>\n",
       "      <td>55.000000</td>\n",
       "    </tr>\n",
       "    <tr>\n",
       "      <th>mean</th>\n",
       "      <td>0.027481</td>\n",
       "      <td>0.022876</td>\n",
       "    </tr>\n",
       "    <tr>\n",
       "      <th>std</th>\n",
       "      <td>0.018500</td>\n",
       "      <td>0.018372</td>\n",
       "    </tr>\n",
       "    <tr>\n",
       "      <th>min</th>\n",
       "      <td>0.000067</td>\n",
       "      <td>0.000067</td>\n",
       "    </tr>\n",
       "    <tr>\n",
       "      <th>25%</th>\n",
       "      <td>0.012782</td>\n",
       "      <td>0.006914</td>\n",
       "    </tr>\n",
       "    <tr>\n",
       "      <th>50%</th>\n",
       "      <td>0.027701</td>\n",
       "      <td>0.016377</td>\n",
       "    </tr>\n",
       "    <tr>\n",
       "      <th>75%</th>\n",
       "      <td>0.042156</td>\n",
       "      <td>0.038371</td>\n",
       "    </tr>\n",
       "    <tr>\n",
       "      <th>max</th>\n",
       "      <td>0.058184</td>\n",
       "      <td>0.058151</td>\n",
       "    </tr>\n",
       "  </tbody>\n",
       "</table>\n",
       "</div>"
      ],
      "text/plain": [
       "              KX         KY\n",
       "count  55.000000  55.000000\n",
       "mean    0.027481   0.022876\n",
       "std     0.018500   0.018372\n",
       "min     0.000067   0.000067\n",
       "25%     0.012782   0.006914\n",
       "50%     0.027701   0.016377\n",
       "75%     0.042156   0.038371\n",
       "max     0.058184   0.058151"
      ]
     },
     "metadata": {},
     "output_type": "display_data"
    }
   ],
   "source": [
    "\n",
    "# Summary statistics for permeability values Kx and Ky\n",
    "kx_column = 'KX'  # Adjust column name if different\n",
    "ky_column = 'KY'  # Adjust column name if different\n",
    "\n",
    "if kx_column in df.columns and ky_column in df.columns:\n",
    "    print(\"Summary Statistics for Kx and Ky:\")\n",
    "    display(df[[kx_column, ky_column]].describe())\n",
    "else:\n",
    "    print(\"Error: Columns Kx and Ky not found in dataset.\")\n"
   ]
  },
  {
   "cell_type": "code",
   "execution_count": 6,
   "id": "5f079851",
   "metadata": {},
   "outputs": [
    {
     "data": {
      "image/png": "[encoded data removed]",
      "text/plain": [
       "<Figure size 1200x500 with 2 Axes>"
      ]
     },
     "metadata": {},
     "output_type": "display_data"
    }
   ],
   "source": [
    "\n",
    "# Visualizing the distribution of Kx and Ky\n",
    "fig, axes = plt.subplots(1, 2, figsize=(12, 5))\n",
    "\n",
    "sns.histplot(df[kx_column].dropna(), kde=True, bins=30, ax=axes[0], color=\"blue\")\n",
    "axes[0].set_title(\"Distribution of Kx\")\n",
    "\n",
    "sns.histplot(df[ky_column].dropna(), kde=True, bins=30, ax=axes[1], color=\"green\")\n",
    "axes[1].set_title(\"Distribution of Ky\")\n",
    "\n",
    "plt.show()\n"
   ]
  },
  {
   "cell_type": "code",
   "execution_count": 7,
   "id": "88df282c",
   "metadata": {},
   "outputs": [
    {
     "data": {
      "image/png": "[encoded data removed]",
      "text/plain": [
       "<Figure size 1200x500 with 2 Axes>"
      ]
     },
     "metadata": {},
     "output_type": "display_data"
    }
   ],
   "source": [
    "\n",
    "# Boxplots to detect outliers\n",
    "fig, axes = plt.subplots(1, 2, figsize=(12, 5))\n",
    "\n",
    "sns.boxplot(y=df[kx_column].dropna(), ax=axes[0], color=\"blue\")\n",
    "axes[0].set_title(\"Boxplot of Kx\")\n",
    "\n",
    "sns.boxplot(y=df[ky_column].dropna(), ax=axes[1], color=\"green\")\n",
    "axes[1].set_title(\"Boxplot of Ky\")\n",
    "\n",
    "plt.show()\n"
   ]
  },
  {
   "cell_type": "code",
   "execution_count": 8,
   "id": "2b54c289",
   "metadata": {},
   "outputs": [
    {
     "name": "stdout",
     "output_type": "stream",
     "text": [
      "Correlation Matrix:\n"
     ]
    },
    {
     "data": {
      "text/html": [
       "<div>\n",
       "<style scoped>\n",
       "    .dataframe tbody tr th:only-of-type {\n",
       "        vertical-align: middle;\n",
       "    }\n",
       "\n",
       "    .dataframe tbody tr th {\n",
       "        vertical-align: top;\n",
       "    }\n",
       "\n",
       "    .dataframe thead th {\n",
       "        text-align: right;\n",
       "    }\n",
       "</style>\n",
       "<table border=\"1\" class=\"dataframe\">\n",
       "  <thead>\n",
       "    <tr style=\"text-align: right;\">\n",
       "      <th></th>\n",
       "      <th>KX</th>\n",
       "      <th>KY</th>\n",
       "    </tr>\n",
       "  </thead>\n",
       "  <tbody>\n",
       "    <tr>\n",
       "      <th>KX</th>\n",
       "      <td>1.000000</td>\n",
       "      <td>0.842219</td>\n",
       "    </tr>\n",
       "    <tr>\n",
       "      <th>KY</th>\n",
       "      <td>0.842219</td>\n",
       "      <td>1.000000</td>\n",
       "    </tr>\n",
       "  </tbody>\n",
       "</table>\n",
       "</div>"
      ],
      "text/plain": [
       "          KX        KY\n",
       "KX  1.000000  0.842219\n",
       "KY  0.842219  1.000000"
      ]
     },
     "metadata": {},
     "output_type": "display_data"
    },
    {
     "data": {
      "image/png": "[encoded data removed]",
      "text/plain": [
       "<Figure size 500x400 with 2 Axes>"
      ]
     },
     "metadata": {},
     "output_type": "display_data"
    }
   ],
   "source": [
    "\n",
    "# Correlation between Kx and Ky\n",
    "correlation = df[[kx_column, ky_column]].corr()\n",
    "print(\"Correlation Matrix:\")\n",
    "display(correlation)\n",
    "\n",
    "# Heatmap visualization\n",
    "plt.figure(figsize=(5, 4))\n",
    "sns.heatmap(correlation, annot=True, cmap=\"coolwarm\", linewidths=0.5)\n",
    "plt.title(\"Correlation between Kx and Ky\")\n",
    "plt.show()\n"
   ]
  }
 ],
 "metadata": {
  "kernelspec": {
   "display_name": "Python 3",
   "language": "python",
   "name": "python3"
  },
  "language_info": {
   "codemirror_mode": {
    "name": "ipython",
    "version": 3
   },
   "file_extension": ".py",
   "mimetype": "text/x-python",
   "name": "python",
   "nbconvert_exporter": "python",
   "pygments_lexer": "ipython3",
   "version": "3.9.6"
  }
 },
 "nbformat": 4,
 "nbformat_minor": 5
}
